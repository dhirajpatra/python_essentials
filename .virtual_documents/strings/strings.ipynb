

















# Declaring a string variable
string = "This is a python tutorial"
print(string)


print(type(string))











# THis is an escape sequence.
string = "This is a \"Google Colab\" python notebook"
print(string)











string = "Python"
print(string[2])


print(string[5])











string = "programming"
string





print(string[0:1])





print(string[0:3])





print(string[:3])





print(string[-3:])





print(string[3:])





print(string[:-3])





print(string[::-1])





print(string[::])











String = "Computer Programming"
String


type(String)


list = String.split()
list


type(list)











Money = '$113,678'
print(Money)
print("===========================")
print(type(Money))


Money = Money.replace('$', '')
Money


Money = Money.replace(',', '')
Money


Money = int(Money)
print(Money)
print("===========================")
print(type(Money))











String = "Python Programming is fun"
String


String = " ".join(String)
String


String = ''.join(char for char in "Python programming is fun".split())
String











string = "programming"
string


string = string.capitalize()
string











string = "python"
string


print(string.center(15, '*'))











string = "programming"
string


print(string.find('p'))


print(string.find('t'))











string = "     programming is easy    "
string


print(string.strip())









