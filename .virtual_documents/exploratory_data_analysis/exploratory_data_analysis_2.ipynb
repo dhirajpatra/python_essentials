


























# Importing the required libraries
import pandas as pd               
import numpy as np
import seaborn as sns                       #visualisation
import matplotlib.pyplot as plt             #visualisation
%matplotlib inline     
sns.set(color_codes=True)


# Loading the CSV file into a pandas dataframe.
df = pd.read_csv("../CARS.csv")
df.head(5)











# Removing irrelevant features
df = df.drop(['Model','DriveTrain','Invoice', 'Origin', 'Type'], axis=1)
df.head(5)











# To identify the type of data
df.info()








# Getting the number of instances and features
df.shape


# Getting the dimensions of the data frame
df.ndim








df = df.drop_duplicates(subset='MSRP', keep='first')
df.count()








# To peek at first five rows
df.head(5)


# To peek at last five rows
df.tail(5)





# Finding the null values
print(df.isnull().sum())


nan_rows = df[df.isnull().any(axis=1)]  # Select rows with any NaN value
print(nan_rows)


# Printing the null value rows
df[240:242]


# Filling the rows with the mean of the column
val = df['Cylinders'].mean()
df['Cylinders'][247] = round(val)

val = df['Cylinders'].mean()
df['Cylinders'][248]= round(val)








# Removing the formatting
df['MSRP'] = [x.replace('$', '') for x in df['MSRP']] 
df['MSRP'] = [x.replace(',', '') for x in df['MSRP']]  


df['MSRP']=pd.to_numeric(df['MSRP'],errors='coerce')








sns.boxplot(x=df['MSRP'])


Q1 = df.quantile(0.25)
Q3 = df.quantile(0.75)
IQR = Q3 - Q1
print(IQR)


df = df[~((df < (Q1 - 1.5 * IQR)) |(df > (Q3 + 1.5 * IQR))).any(axis=1)]





sns.boxplot(x=df['MSRP'])








df.describe()











# Plotting a Histogram
df.Make.value_counts().nlargest(40).plot(kind='bar', figsize=(10,5))
plt.title("Number of cars by make")
plt.ylabel('Number of cars')
plt.xlabel('Make');





# Plotting a heat map
plt.figure(figsize=(10,5))
c= df.corr()
sns.heatmap(c,cmap="BrBG",annot=True)





# Plotting a scatter plot
fig, ax = plt.subplots(figsize=(5,5))
ax.scatter(df['Horsepower'], df['MSRP'])
plt.title('Scatter plot between MSRP and Horsepower')
ax.set_xlabel('Horsepower')
ax.set_ylabel('MSRP')
plt.show()












