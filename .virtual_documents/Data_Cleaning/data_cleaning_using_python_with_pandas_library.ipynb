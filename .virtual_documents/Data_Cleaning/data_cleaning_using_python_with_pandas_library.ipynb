


























# Importing the necessary libraries.
import pandas as pd
import numpy as np











# Reading a CSV file
df = pd.read_csv("heart.csv")
df.head(5)











# Dropping unused columns.
to_drop = ['cp',
          'fbs',
          'restecg',
          'thalach',
          'exang',
          'oldpeak',
          'slope',
          'thal',
           'target', 
          'ca']

df.drop(to_drop, inplace = True, axis = 1)
df.head(5)


import pandas as pd

# Sample DataFrame
data = {'Name': ['Alice', 'Bob', 'Charlie'],
        'Age': [25, 30, 35],
        'City': ['New York', 'San Francisco', 'Los Angeles']}
df = pd.DataFrame(data)

# Display original DataFrame
print("Original DataFrame:")
print(df)

# Drop a single column using axis=1
df = df.drop('Age', axis=1)

# Display DataFrame after dropping 'Age' column
print("\nDataFrame after dropping 'Age' column:")
print(df)






import pandas as pd

# Sample DataFrame
data = {'Name': ['Alice', 'Bob', 'Charlie'],
        'Age': [25, 30, 35],
        'City': ['New York', 'San Francisco', 'Los Angeles']}
df = pd.DataFrame(data)

# Display original DataFrame
print("Original DataFrame:")
print(df)

# Drop rows based on condition (e.g., where Age is 30) using axis=0
df = df.drop(df[df['Age'] == 30].index, axis=0)

# Display DataFrame after dropping rows
print("\nDataFrame after dropping rows where Age is 30:")
print(df)












# Renaming the column names
new_name = {'age': 'Age',
           'sex': 'Sex',
           'trestbps': 'Bps',
           'chol': 'Cholesterol'
            }

df.rename(columns = new_name, inplace = True)
df.head()











# Replacing the values in the row
replace_values = {0: 'F', 1: 'M'}

df = df.replace({"Sex": replace_values})                                                                                             

df.head()






