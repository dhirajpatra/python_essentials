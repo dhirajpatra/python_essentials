{
 "cells": [
  {
   "cell_type": "markdown",
   "metadata": {
    "colab_type": "text",
    "id": "view-in-github"
   },
   "source": [
    "<a href=\"https://colab.research.google.com/github/Tanu-N-Prabhu/Python/blob/master/Python_enumerate()_built_in_function.ipynb\" target=\"_parent\"><img src=\"https://colab.research.google.com/assets/colab-badge.svg\" alt=\"Open In Colab\"/></a>"
   ]
  },
  {
   "cell_type": "markdown",
   "metadata": {
    "colab_type": "text",
    "id": "SlS3uIP0UrJU"
   },
   "source": [
    "# Python enumerate() built-in-function\n"
   ]
  },
  {
   "cell_type": "markdown",
   "metadata": {
    "colab_type": "text",
    "id": "iA6kOMpEUt37"
   },
   "source": [
    "## In this tutorial let us understand the enumerate built-in-function in python.\n",
    "\n",
    "![alt text](https://miro.medium.com/max/1523/1*RXF13Ul8pCJuCsjlE_KNww.png)"
   ]
  },
  {
   "cell_type": "markdown",
   "metadata": {
    "colab_type": "text",
    "id": "2bbG4M3nU15D"
   },
   "source": [
    "# Definition\n",
    "\n",
    "An enumerator built-in-function adds a counter of iterable numbers to the provided data structure of integers, characters or strings and many more. Now the data structure might be any list, tuple, dictionary or sets. If the counter is not provided by the user, then it starts from 0 by default. Based on the number provided the enumerator function iterates.\n",
    "\n",
    "\n",
    "\n",
    "---\n",
    "\n",
    "\n"
   ]
  },
  {
   "cell_type": "markdown",
   "metadata": {
    "colab_type": "text",
    "id": "plXrOTBIU8Cc"
   },
   "source": [
    "# Syntax\n",
    "\n",
    "**The syntax of the enumerator built-in-function is as shown below:**\n",
    "\n",
    "\n",
    "\n",
    "```\n",
    "enumerate(iterable, start)\n",
    "```\n",
    "\n"
   ]
  },
  {
   "cell_type": "markdown",
   "metadata": {
    "colab_type": "text",
    "id": "P5iazrUeYaFE"
   },
   "source": [
    "\n",
    "\n",
    "---\n",
    "\n"
   ]
  },
  {
   "cell_type": "markdown",
   "metadata": {
    "colab_type": "text",
    "id": "CDjEenabVGaS"
   },
   "source": [
    "# Parameters\n",
    "\n",
    "**The parameters of the enumerator function are iterable and start.**\n",
    "\n",
    "1. iterable: This is the name of the data structure that wish to iterate.\n",
    "2. start: This is the number where you want to start iterating the counter.\n",
    "\n",
    "\n",
    "\n",
    "> ***Note: The iterable must be an object that supports iteration.***\n",
    "\n",
    "If you are curious to know the actual syntax of the enumerate function just type help(enumerate) on your IDE and then you will get the following result. Because you need to know this stuff.\n",
    "\n",
    "\n",
    "\n"
   ]
  },
  {
   "cell_type": "code",
   "execution_count": 2,
   "metadata": {
    "colab": {
     "base_uri": "https://localhost:8080/",
     "height": 503
    },
    "colab_type": "code",
    "id": "QfDTthUzVYbu",
    "outputId": "85b4ab0a-b5de-4f8d-bb31-001ea6cc1c96"
   },
   "outputs": [
    {
     "name": "stdout",
     "output_type": "stream",
     "text": [
      "Help on class enumerate in module builtins:\n",
      "\n",
      "class enumerate(object)\n",
      " |  enumerate(iterable, start=0)\n",
      " |  \n",
      " |  Return an enumerate object.\n",
      " |  \n",
      " |    iterable\n",
      " |      an object supporting iteration\n",
      " |  \n",
      " |  The enumerate object yields pairs containing a count (from start, which\n",
      " |  defaults to zero) and a value yielded by the iterable argument.\n",
      " |  \n",
      " |  enumerate is useful for obtaining an indexed list:\n",
      " |      (0, seq[0]), (1, seq[1]), (2, seq[2]), ...\n",
      " |  \n",
      " |  Methods defined here:\n",
      " |  \n",
      " |  __getattribute__(self, name, /)\n",
      " |      Return getattr(self, name).\n",
      " |  \n",
      " |  __iter__(self, /)\n",
      " |      Implement iter(self).\n",
      " |  \n",
      " |  __next__(self, /)\n",
      " |      Implement next(self).\n",
      " |  \n",
      " |  __reduce__(...)\n",
      " |      Return state information for pickling.\n",
      " |  \n",
      " |  ----------------------------------------------------------------------\n",
      " |  Class methods defined here:\n",
      " |  \n",
      " |  __class_getitem__(...) from builtins.type\n",
      " |      See PEP 585\n",
      " |  \n",
      " |  ----------------------------------------------------------------------\n",
      " |  Static methods defined here:\n",
      " |  \n",
      " |  __new__(*args, **kwargs) from builtins.type\n",
      " |      Create and return a new object.  See help(type) for accurate signature.\n",
      "\n"
     ]
    }
   ],
   "source": [
    "help(enumerate)"
   ]
  },
  {
   "cell_type": "markdown",
   "metadata": {
    "colab_type": "text",
    "id": "jalrJE4lYXP6"
   },
   "source": [
    "\n",
    "\n",
    "---\n",
    "\n"
   ]
  },
  {
   "cell_type": "markdown",
   "metadata": {
    "colab_type": "text",
    "id": "tPCnslpIVjuB"
   },
   "source": [
    "# Return Type\n",
    "\n",
    "The return type of an enumerate function is an object type. So the enumerate function returns an object by adding the iterating counter value to it. You can also convert the enumerator object into a list(), tuple(), set() and many more."
   ]
  },
  {
   "cell_type": "markdown",
   "metadata": {
    "colab_type": "text",
    "id": "i75iLR34Vn68"
   },
   "source": [
    "**Let us see an example and understand the enumerate function.**\n"
   ]
  },
  {
   "cell_type": "code",
   "execution_count": 13,
   "metadata": {
    "colab": {
     "base_uri": "https://localhost:8080/",
     "height": 52
    },
    "colab_type": "code",
    "id": "251JQsEzVqF5",
    "outputId": "7cb52601-e8f2-4198-c630-01056acac5fa"
   },
   "outputs": [
    {
     "name": "stdout",
     "output_type": "stream",
     "text": [
      "<class 'list'>\n",
      "<class 'enumerate'>\n"
     ]
    }
   ],
   "source": [
    "programmming = [\"Python\", \"Programmming\", \"Is\", \"Fun\"]\n",
    "print(type(programmming))\n",
    "enum = enumerate(programmming)\n",
    "print(type(enum))"
   ]
  },
  {
   "cell_type": "code",
   "execution_count": 15,
   "metadata": {
    "colab": {
     "base_uri": "https://localhost:8080/",
     "height": 35
    },
    "colab_type": "code",
    "id": "i7hqaGlZVx81",
    "outputId": "5b336ca9-1bea-4346-b656-001ea427d390"
   },
   "outputs": [
    {
     "name": "stdout",
     "output_type": "stream",
     "text": [
      "[(0, 'Python'), (1, 'Programmming'), (2, 'Is'), (3, 'Fun')]\n"
     ]
    }
   ],
   "source": [
    "#Converting to a list\n",
    "lenum = list(enum)\n",
    "print(lenum)"
   ]
  },
  {
   "cell_type": "code",
   "execution_count": 17,
   "metadata": {},
   "outputs": [
    {
     "name": "stdout",
     "output_type": "stream",
     "text": [
      "<class 'tuple'>\n",
      "<class 'tuple'>\n",
      "<class 'tuple'>\n",
      "<class 'tuple'>\n"
     ]
    }
   ],
   "source": [
    "# so this is now a list of tuples\n",
    "for i in lenum:\n",
    "    print(type(i))"
   ]
  },
  {
   "cell_type": "code",
   "execution_count": 19,
   "metadata": {
    "colab": {
     "base_uri": "https://localhost:8080/",
     "height": 35
    },
    "colab_type": "code",
    "id": "O0N9vLHzV3ZB",
    "outputId": "16d7c435-9c7e-40fe-fe62-0e97c024444f"
   },
   "outputs": [
    {
     "name": "stdout",
     "output_type": "stream",
     "text": [
      "((0, 'Python'), (1, 'Programmming'), (2, 'Is'), (3, 'Fun'))\n"
     ]
    }
   ],
   "source": [
    "#Converting to a tuple\n",
    "print(tuple(lenum))"
   ]
  },
  {
   "cell_type": "code",
   "execution_count": 7,
   "metadata": {
    "colab": {
     "base_uri": "https://localhost:8080/",
     "height": 35
    },
    "colab_type": "code",
    "id": "Ss6Sq8ApV8Ok",
    "outputId": "6c69cc07-c66b-4251-c355-ed8e6bc6d4ee"
   },
   "outputs": [
    {
     "name": "stdout",
     "output_type": "stream",
     "text": [
      "set()\n"
     ]
    }
   ],
   "source": [
    "#Converting to a set\n",
    "print(set(enum))"
   ]
  },
  {
   "cell_type": "markdown",
   "metadata": {
    "colab_type": "text",
    "id": "9o-1wMIlWDai"
   },
   "source": [
    "When you run the program you will get the following output:\n",
    "\n",
    "\n",
    "\n",
    "```\n",
    "<class 'list'>\n",
    "<class 'enumerate'>\n",
    "[(0, 'Python'), (1, 'Programmming'), (2, 'Is'), (3, 'Fun')]\n",
    "((0, 'Python'), (1, 'Programmming'), (2, 'Is'), (3, 'Fun'))\n",
    "{(3, 'Fun'), (2, 'Is'), (0, 'Python'), (1, 'Programmming')}\n",
    "```\n",
    "\n"
   ]
  },
  {
   "cell_type": "markdown",
   "metadata": {
    "colab_type": "text",
    "id": "lKqT4kF6WNQG"
   },
   "source": [
    "\n",
    "\n",
    "---\n",
    "\n"
   ]
  },
  {
   "cell_type": "markdown",
   "metadata": {
    "colab_type": "text",
    "id": "-zhFApMjWO75"
   },
   "source": [
    "# Optional Arguments\n",
    "\n",
    "Enumerate function also accepts optional arguments, you can also pass the name of the data structure along with the specific index which you want to start the counter from. For example, think that the default value of the list starts from 0 and then the counter continues to iterate. Now you want to start the counter from 5 and then increment it. This can be done as shown below:"
   ]
  },
  {
   "cell_type": "code",
   "execution_count": null,
   "metadata": {
    "colab": {},
    "colab_type": "code",
    "id": "RSMWM1SXWUjr"
   },
   "outputs": [],
   "source": [
    "programmming = [\"Python\", \"Programmming\", \"Is\", \"Fun\"]"
   ]
  },
  {
   "cell_type": "code",
   "execution_count": null,
   "metadata": {
    "colab": {
     "base_uri": "https://localhost:8080/",
     "height": 35
    },
    "colab_type": "code",
    "id": "BsdfMet_WWhP",
    "outputId": "3aeff072-c6c9-40ed-ceb2-db17c9d4b0aa"
   },
   "outputs": [
    {
     "name": "stdout",
     "output_type": "stream",
     "text": [
      "[(0, 'Python'), (1, 'Programmming'), (2, 'Is'), (3, 'Fun')]\n"
     ]
    }
   ],
   "source": [
    "# Counter value starts from 0\n",
    "enum = enumerate(programmming)\n",
    "print(list(enum))"
   ]
  },
  {
   "cell_type": "code",
   "execution_count": null,
   "metadata": {
    "colab": {
     "base_uri": "https://localhost:8080/",
     "height": 35
    },
    "colab_type": "code",
    "id": "ouxYi2N7WYIn",
    "outputId": "e31fc421-2b7e-4603-b419-48db0308046e"
   },
   "outputs": [
    {
     "name": "stdout",
     "output_type": "stream",
     "text": [
      "[(5, 'Python'), (6, 'Programmming'), (7, 'Is'), (8, 'Fun')]\n"
     ]
    }
   ],
   "source": [
    "# Counter value starts from 5\n",
    "enum = enumerate(programmming, 5)\n",
    "print(list(enum))"
   ]
  },
  {
   "cell_type": "markdown",
   "metadata": {
    "colab_type": "text",
    "id": "hQ22h7RMWaA7"
   },
   "source": [
    "When you run the program you will get the following output:\n",
    "\n",
    "\n",
    "\n",
    "```\n",
    "[(0, 'Python'), (1, 'Programmming'), (2, 'Is'), (3, 'Fun')]\n",
    "[(5, 'Python'), (6, 'Programmming'), (7, 'Is'), (8, 'Fun')]\n",
    "```\n",
    "\n",
    "\n",
    "\n",
    "\n",
    "---\n",
    "\n"
   ]
  },
  {
   "cell_type": "markdown",
   "metadata": {
    "colab_type": "text",
    "id": "1-FtDcXFXm2Z"
   },
   "source": [
    "# Looping Over an Enumerate object\n",
    "\n",
    "Let us see how can we loop over an enumerate as shown below:\n",
    "\n"
   ]
  },
  {
   "cell_type": "code",
   "execution_count": null,
   "metadata": {
    "colab": {
     "base_uri": "https://localhost:8080/",
     "height": 156
    },
    "colab_type": "code",
    "id": "FHvB3KhlXsPG",
    "outputId": "9003e23e-2b66-4c24-a47d-b73e2dc203e4"
   },
   "outputs": [
    {
     "name": "stdout",
     "output_type": "stream",
     "text": [
      "(0, 'Python')\n",
      "(1, 'Programmming')\n",
      "(2, 'Is')\n",
      "(3, 'Fun')\n",
      "(10, 'Python')\n",
      "(11, 'Programmming')\n",
      "(12, 'Is')\n",
      "(13, 'Fun')\n"
     ]
    }
   ],
   "source": [
    "programmming = [\"Python\", \"Programmming\", \"Is\", \"Fun\"]\n",
    "for i in enumerate(programmming):\n",
    "    print(i)\n",
    "for i in enumerate(programmming, 10):\n",
    "    print(i)"
   ]
  },
  {
   "cell_type": "markdown",
   "metadata": {
    "colab_type": "text",
    "id": "1tXkwc9iXudb"
   },
   "source": [
    "When you run the program the output will be:\n",
    "\n",
    "\n",
    "\n",
    "```\n",
    "(0, 'Python') \n",
    "(1, 'Programmming') \n",
    "(2, 'Is') \n",
    "(3, 'Fun')\n",
    "\n",
    "(10, 'Python') \n",
    "(11, 'Programmming') \n",
    "(12, 'Is') \n",
    "(13, 'Fun')\n",
    "```\n",
    "\n"
   ]
  },
  {
   "cell_type": "markdown",
   "metadata": {
    "colab_type": "text",
    "id": "WHwhdDgjX1in"
   },
   "source": [
    "This is the end of the tutorial about ***“Python enumerate() built-in-function”***, this is a very short tutorial because this concept is very small and it is not much you can do with it. It is really important to know the concept of Enumerate function so that you can apply this concept elsewhere. To read the official documentation of the enumerate function please go through the link below:\n",
    "\n",
    "[Python Enumerate Function](https://docs.python.org/3/library/functions.html?source=post_page-----acccf988d096----------------------#enumerate)\n",
    "\n",
    "\n",
    "Alright time to say Goodbye, Stay tuned to read more python tutorials. I hope you enjoyed reading this tutorial. Have a good day!\n",
    "\n",
    "\n",
    "\n",
    "---\n",
    "\n",
    "\n",
    "# Author: Tanu Nanda Prabhu"
   ]
  }
 ],
 "metadata": {
  "colab": {
   "include_colab_link": true,
   "name": "Python enumerate() built-in-function.ipynb",
   "provenance": []
  },
  "kernelspec": {
   "display_name": "Python 3 (ipykernel)",
   "language": "python",
   "name": "python3"
  },
  "language_info": {
   "codemirror_mode": {
    "name": "ipython",
    "version": 3
   },
   "file_extension": ".py",
   "mimetype": "text/x-python",
   "name": "python",
   "nbconvert_exporter": "python",
   "pygments_lexer": "ipython3",
   "version": "3.11.5"
  }
 },
 "nbformat": 4,
 "nbformat_minor": 4
}
