{
 "cells": [
  {
   "cell_type": "markdown",
   "metadata": {
    "colab_type": "text",
    "id": "view-in-github"
   },
   "source": [
    "<a href=\"https://colab.research.google.com/github/Tanu-N-Prabhu/Python/blob/master/Is_Python_object_oriented%3F.ipynb\" target=\"_parent\"><img src=\"https://colab.research.google.com/assets/colab-badge.svg\" alt=\"Open In Colab\"/></a>"
   ]
  },
  {
   "cell_type": "markdown",
   "metadata": {
    "colab_type": "text",
    "id": "QfPHMX1yhlpd"
   },
   "source": [
    "# Is Python object-oriented?\n"
   ]
  },
  {
   "cell_type": "markdown",
   "metadata": {
    "colab_type": "text",
    "id": "6fHRMLXHhnhf"
   },
   "source": [
    "## This tutorial answers the question of whether python is objected oriented or not?\n",
    "\n",
    "![alt text](https://miro.medium.com/max/902/1*2uZaR_zHJ_ccCzyjXJsXRQ.jpeg)"
   ]
  },
  {
   "cell_type": "markdown",
   "metadata": {
    "colab_type": "text",
    "id": "mpHHXq7phuYc"
   },
   "source": [
    "\n",
    "\n",
    "\n",
    "> Well Is Python an object oriented programming language? Yes, it is. With the exception of control flow, everything in Python is an object. By Max Fischer, who answers this question in [Quora](https://www.quora.com/Is-Python-object-oriented).\n",
    "\n",
    "\n",
    "\n"
   ]
  },
  {
   "cell_type": "markdown",
   "metadata": {
    "colab_type": "text",
    "id": "EFffARQxiG1P"
   },
   "source": [
    "## Its time to answer the above question in my style.\n",
    "\n",
    "Yes, python is an objected oriented programming language. Everything in python is an object. Using python we can create classes and objects. Here in this tutorial, I would be discussing only about classes and objects.\n",
    "\n",
    "\n",
    "> **Classes:** Class is like a blueprint that helps to create an object. In other words, a class comprises variables, methods, functions. Or you can refer class which contains properties and behavior. For example Consider a class “Ball” now the properties of Ball might be color, diameter, price and the behavior of the ball might be rolling, bouncing.\n",
    "\n",
    "\n",
    "\n",
    "\n",
    "> **Objects:** Objects are an instance of a class. With the help of objects, we can access the method and function of a class.\n",
    "\n",
    "\n",
    "\n",
    "\n",
    "## Now let us see how to create a class and an object in python\n",
    "\n",
    "Creating a class in Python is trivial, all you have to do is use a keyword called “class” along with a name which is often referred to as the name of the class. Inside the class, we can either declare functions or variables."
   ]
  },
  {
   "cell_type": "code",
   "execution_count": null,
   "metadata": {
    "colab": {},
    "colab_type": "code",
    "id": "JN3igx8ksnOk"
   },
   "outputs": [],
   "source": [
    "class python:\n",
    "    def designer():\n",
    "        print(\"Guido van Rossum\")\n",
    "    def first_appeared():\n",
    "        print(\"1990; 29 years ago\")"
   ]
  },
  {
   "cell_type": "markdown",
   "metadata": {
    "colab_type": "text",
    "id": "P2n9XDQ2s3Ob"
   },
   "source": [
    "In order to access the function inside the class all you have to do call the class with its class name and with the “.” dot operator call its function. We can access the class in two ways: Without creating the object and creating an object"
   ]
  },
  {
   "cell_type": "markdown",
   "metadata": {
    "colab_type": "text",
    "id": "kGsXVGJBs3-R"
   },
   "source": [
    "## Without creating an Object\n",
    "\n",
    "Just use the class name along with the dot operator to access the functions inside the class."
   ]
  },
  {
   "cell_type": "code",
   "execution_count": 41,
   "metadata": {
    "colab": {
     "base_uri": "https://localhost:8080/",
     "height": 35
    },
    "colab_type": "code",
    "id": "jd9QnMyatEPu",
    "outputId": "585eb45a-02e5-4b67-be03-9643ce37a935"
   },
   "outputs": [
    {
     "name": "stdout",
     "output_type": "stream",
     "text": [
      "Guido van Rossum\n"
     ]
    }
   ],
   "source": [
    "python.designer()"
   ]
  },
  {
   "cell_type": "code",
   "execution_count": 42,
   "metadata": {
    "colab": {
     "base_uri": "https://localhost:8080/",
     "height": 35
    },
    "colab_type": "code",
    "id": "34eCovxbtGFo",
    "outputId": "62d67229-1843-49bd-c38b-fde23f634595"
   },
   "outputs": [
    {
     "name": "stdout",
     "output_type": "stream",
     "text": [
      "1990; 29 years ago\n"
     ]
    }
   ],
   "source": [
    "python.first_appeared()"
   ]
  },
  {
   "cell_type": "markdown",
   "metadata": {
    "colab_type": "text",
    "id": "y8uDC6A6tIiX"
   },
   "source": [
    "## Creating an object\n"
   ]
  },
  {
   "cell_type": "code",
   "execution_count": 43,
   "metadata": {
    "colab": {
     "base_uri": "https://localhost:8080/",
     "height": 35
    },
    "colab_type": "code",
    "id": "3RSwWhkftO-G",
    "outputId": "0e5ea9e0-8f18-440c-d99a-c29c0b744f19"
   },
   "outputs": [
    {
     "name": "stdout",
     "output_type": "stream",
     "text": [
      "Guido van Rossum\n"
     ]
    }
   ],
   "source": [
    "p = python\n",
    "p.designer()"
   ]
  },
  {
   "cell_type": "code",
   "execution_count": 44,
   "metadata": {
    "colab": {
     "base_uri": "https://localhost:8080/",
     "height": 35
    },
    "colab_type": "code",
    "id": "IyCQexFTtQ8D",
    "outputId": "84782f3d-a6d9-40b7-a08c-a8dd19caf146"
   },
   "outputs": [
    {
     "name": "stdout",
     "output_type": "stream",
     "text": [
      "1990; 29 years ago\n"
     ]
    }
   ],
   "source": [
    "p.first_appeared()"
   ]
  },
  {
   "cell_type": "markdown",
   "metadata": {
    "colab_type": "text",
    "id": "_D4JdXuvtWZf"
   },
   "source": [
    "Now creating an object is not a hard task all you have to do is just use a variable named “p” in this case and assign it to the class “python” and then with the help of a dot operator you can invoke the functions inside the class.\n",
    "\n",
    "\n",
    "\n",
    "---\n",
    "\n"
   ]
  },
  {
   "cell_type": "markdown",
   "metadata": {
    "colab_type": "text",
    "id": "f-333feRtamj"
   },
   "source": [
    "## The Self Parameter\n",
    "\n",
    "\n",
    "\n",
    "> The self parameter is a reference to the current instance of the class, and is used to access variables that belong to the class. Credits — [w3schools](https://www.w3schools.com/python/python_classes.asp)\n",
    "\n",
    "\n",
    "You can name the self parameter anything you like, its not mandatory to call it as self."
   ]
  },
  {
   "cell_type": "code",
   "execution_count": 45,
   "metadata": {
    "colab": {
     "base_uri": "https://localhost:8080/",
     "height": 35
    },
    "colab_type": "code",
    "id": "lEI1D9NHtpPJ",
    "outputId": "15170902-0629-49b8-bc39-51fd149cae48"
   },
   "outputs": [
    {
     "name": "stdout",
     "output_type": "stream",
     "text": [
      "Hello my dog's name is Danny and its age is 10\n"
     ]
    }
   ],
   "source": [
    "class Dog:\n",
    "    def __init__(self, name, age):\n",
    "        self.name = name\n",
    "        self.age = age\n",
    "    def func(a):\n",
    "        print(\"Hello my dog's name is \" + a.name + \" and its age is \" + a.age)\n",
    "p1 = Dog(\"Danny\", \"10\")\n",
    "p1.func()"
   ]
  },
  {
   "cell_type": "markdown",
   "metadata": {
    "colab_type": "text",
    "id": "XKb4GyAJt25E"
   },
   "source": [
    "Here in the above example, I am using the init() which is executed when the class is being initiated. Here every class contains the init() function. As seen above with the help of the self parameter we can access the variables inside the class."
   ]
  },
  {
   "cell_type": "markdown",
   "metadata": {
    "colab_type": "text",
    "id": "ZnZ3RrUwt4sL"
   },
   "source": [
    "## We can also access and modify the variables inside the class without the self parameter."
   ]
  },
  {
   "cell_type": "code",
   "execution_count": 46,
   "metadata": {
    "colab": {
     "base_uri": "https://localhost:8080/",
     "height": 69
    },
    "colab_type": "code",
    "id": "FkVl1GU2t78r",
    "outputId": "e7f0f513-1530-4588-ee11-188add468cc7"
   },
   "outputs": [
    {
     "name": "stdout",
     "output_type": "stream",
     "text": [
      "Alaskan Malamute\n",
      "--------------------\n",
      "Labrador\n"
     ]
    }
   ],
   "source": [
    "class Dog:\n",
    "    breed = \"Alaskan Malamute\"\n",
    "    age = 10\n",
    "d = Dog()\n",
    "print(d.breed)\n",
    "print(\"--------------------\")\n",
    "d.breed = \"Labrador\"\n",
    "print(d.breed)"
   ]
  },
  {
   "cell_type": "markdown",
   "metadata": {
    "colab_type": "text",
    "id": "NfXyTpvXt_FU"
   },
   "source": [
    "## Lets us see how can we delete the object using the “del” keyword.\n",
    "\n",
    "You can delete an object by using the del keyword:"
   ]
  },
  {
   "cell_type": "code",
   "execution_count": 47,
   "metadata": {
    "colab": {
     "base_uri": "https://localhost:8080/",
     "height": 52
    },
    "colab_type": "code",
    "id": "AqSlIQecuCvw",
    "outputId": "5c42bb77-a1f2-44d9-cb59-37a112b0e5e3"
   },
   "outputs": [
    {
     "name": "stdout",
     "output_type": "stream",
     "text": [
      "Alaskan Malamute\n",
      "10\n"
     ]
    }
   ],
   "source": [
    "class Dog:\n",
    "    print(\"Alaskan Malamute\")\n",
    "    print(\"10\")"
   ]
  },
  {
   "cell_type": "code",
   "execution_count": 48,
   "metadata": {
    "colab": {
     "base_uri": "https://localhost:8080/",
     "height": 35
    },
    "colab_type": "code",
    "id": "wM3H5zi9uHcK",
    "outputId": "4ae3e97e-f0f5-4bc2-b2a6-3e67a4c8ae98"
   },
   "outputs": [
    {
     "name": "stdout",
     "output_type": "stream",
     "text": [
      "<__main__.Dog object at 0x7fe2b4028748>\n"
     ]
    }
   ],
   "source": [
    "d = Dog()\n",
    "print(d)"
   ]
  },
  {
   "cell_type": "code",
   "execution_count": 49,
   "metadata": {
    "colab": {
     "base_uri": "https://localhost:8080/",
     "height": 183
    },
    "colab_type": "code",
    "id": "fo9kPdPLuJnj",
    "outputId": "ca805dcf-3c00-430e-b9b6-c0b894441b93"
   },
   "outputs": [
    {
     "ename": "NameError",
     "evalue": "ignored",
     "output_type": "error",
     "traceback": [
      "\u001b[0;31m---------------------------------------------------------------------------\u001b[0m",
      "\u001b[0;31mNameError\u001b[0m                                 Traceback (most recent call last)",
      "\u001b[0;32m<ipython-input-49-fae18cb68a55>\u001b[0m in \u001b[0;36m<module>\u001b[0;34m()\u001b[0m\n\u001b[1;32m      1\u001b[0m \u001b[0;32mdel\u001b[0m \u001b[0md\u001b[0m\u001b[0;34m\u001b[0m\u001b[0;34m\u001b[0m\u001b[0m\n\u001b[0;32m----> 2\u001b[0;31m \u001b[0mprint\u001b[0m\u001b[0;34m(\u001b[0m\u001b[0md\u001b[0m\u001b[0;34m)\u001b[0m\u001b[0;34m\u001b[0m\u001b[0;34m\u001b[0m\u001b[0m\n\u001b[0m",
      "\u001b[0;31mNameError\u001b[0m: name 'd' is not defined"
     ]
    }
   ],
   "source": [
    "del d\n",
    "print(d)"
   ]
  },
  {
   "cell_type": "markdown",
   "metadata": {
    "colab_type": "text",
    "id": "FR1rp40ZuLIJ"
   },
   "source": [
    "\n",
    "\n",
    "---\n",
    "\n"
   ]
  },
  {
   "cell_type": "markdown",
   "metadata": {
    "colab_type": "text",
    "id": "rIj0tKpeuL3m"
   },
   "source": [
    "## Let us see how to delete the properties of the object\n",
    "\n",
    "You can delete properties on objects by using the del keyword:"
   ]
  },
  {
   "cell_type": "code",
   "execution_count": 50,
   "metadata": {
    "colab": {
     "base_uri": "https://localhost:8080/",
     "height": 201
    },
    "colab_type": "code",
    "id": "Rku4l2inuPgR",
    "outputId": "89ed886d-ac0e-4b71-86b2-f6a835ee78a4"
   },
   "outputs": [
    {
     "ename": "AttributeError",
     "evalue": "ignored",
     "output_type": "error",
     "traceback": [
      "\u001b[0;31m---------------------------------------------------------------------------\u001b[0m",
      "\u001b[0;31mAttributeError\u001b[0m                            Traceback (most recent call last)",
      "\u001b[0;32m<ipython-input-50-ef7c0f660902>\u001b[0m in \u001b[0;36m<module>\u001b[0;34m()\u001b[0m\n\u001b[1;32m      3\u001b[0m \u001b[0md\u001b[0m \u001b[0;34m=\u001b[0m \u001b[0mDog\u001b[0m\u001b[0;34m\u001b[0m\u001b[0;34m\u001b[0m\u001b[0m\n\u001b[1;32m      4\u001b[0m \u001b[0;32mdel\u001b[0m \u001b[0md\u001b[0m\u001b[0;34m.\u001b[0m\u001b[0mname_of_the_dog\u001b[0m\u001b[0;34m\u001b[0m\u001b[0;34m\u001b[0m\u001b[0m\n\u001b[0;32m----> 5\u001b[0;31m \u001b[0mprint\u001b[0m\u001b[0;34m(\u001b[0m\u001b[0md\u001b[0m\u001b[0;34m.\u001b[0m\u001b[0mname_of_the_dog\u001b[0m\u001b[0;34m)\u001b[0m\u001b[0;34m\u001b[0m\u001b[0;34m\u001b[0m\u001b[0m\n\u001b[0m",
      "\u001b[0;31mAttributeError\u001b[0m: type object 'Dog' has no attribute 'name_of_the_dog'"
     ]
    }
   ],
   "source": [
    "class Dog:\n",
    "    name_of_the_dog = \"Danny\"\n",
    "d = Dog\n",
    "del d.name_of_the_dog\n",
    "print(d.name_of_the_dog)"
   ]
  },
  {
   "cell_type": "markdown",
   "metadata": {
    "colab_type": "text",
    "id": "tmdinWmAuTL8"
   },
   "source": [
    "\n",
    "\n",
    "---\n",
    "\n"
   ]
  },
  {
   "cell_type": "markdown",
   "metadata": {
    "colab_type": "text",
    "id": "gOMgRO47uT9J"
   },
   "source": [
    "## Accessing object variables and function inside a class\n",
    "\n",
    "To do this all you have to do is create an object of class type and using the dot operator access the name of the variable and the function of the class."
   ]
  },
  {
   "cell_type": "code",
   "execution_count": 51,
   "metadata": {
    "colab": {
     "base_uri": "https://localhost:8080/",
     "height": 35
    },
    "colab_type": "code",
    "id": "a-qcvGvauXYz",
    "outputId": "38f79a68-8190-4156-b1d6-6bf46d38bcf7"
   },
   "outputs": [
    {
     "data": {
      "text/plain": [
       "10"
      ]
     },
     "execution_count": 51,
     "metadata": {
      "tags": []
     },
     "output_type": "execute_result"
    }
   ],
   "source": [
    "class dog:\n",
    "    age = 10\n",
    "    def name():\n",
    "        print(\"Danny\")\n",
    "d = dog\n",
    "d.age"
   ]
  },
  {
   "cell_type": "code",
   "execution_count": 52,
   "metadata": {
    "colab": {
     "base_uri": "https://localhost:8080/",
     "height": 35
    },
    "colab_type": "code",
    "id": "OIUIsRUNuZRr",
    "outputId": "5d023b59-9551-4ce0-d4c5-84a7680577a0"
   },
   "outputs": [
    {
     "name": "stdout",
     "output_type": "stream",
     "text": [
      "Danny\n"
     ]
    }
   ],
   "source": [
    "d.name()"
   ]
  },
  {
   "cell_type": "markdown",
   "metadata": {
    "colab_type": "text",
    "id": "39gMGmpFua3C"
   },
   "source": [
    "\n",
    "\n",
    "---\n",
    "\n"
   ]
  },
  {
   "cell_type": "markdown",
   "metadata": {
    "colab_type": "text",
    "id": "IIZ-35cOubl-"
   },
   "source": [
    "I think now you guys believe that python is an objected oriented programming language. This is the end of the tutorial, I know this is a short tutorial, but this is enough for a good start to know more classes and objects. To read the official documentation of python classes I would recommend you guys to go through below:\n",
    "\n",
    "[Python Classes](https://docs.python.org/3/tutorial/classes.html?source=post_page-----834d6c70cf54----------------------)\n",
    "\n",
    "In the upcoming tutorials, I will provide documentation about Inheritance, Parent and Child class and many more. Until then see you, Have a great day.\n",
    "\n",
    "\n",
    "---\n",
    "\n"
   ]
  }
 ],
 "metadata": {
  "colab": {
   "collapsed_sections": [],
   "include_colab_link": true,
   "name": "Is Python object-oriented?.ipynb",
   "provenance": []
  },
  "kernelspec": {
   "display_name": "Python 3 (ipykernel)",
   "language": "python",
   "name": "python3"
  },
  "language_info": {
   "codemirror_mode": {
    "name": "ipython",
    "version": 3
   },
   "file_extension": ".py",
   "mimetype": "text/x-python",
   "name": "python",
   "nbconvert_exporter": "python",
   "pygments_lexer": "ipython3",
   "version": "3.11.5"
  }
 },
 "nbformat": 4,
 "nbformat_minor": 4
}
