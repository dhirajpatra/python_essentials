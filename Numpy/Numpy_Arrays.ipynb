{
 "cells": [
  {
   "cell_type": "markdown",
   "metadata": {
    "colab_type": "text",
    "id": "view-in-github"
   },
   "source": [
    "<a href=\"https://colab.research.google.com/github/Tanu-N-Prabhu/Python/blob/master/Numpy/Numpy_Arrays.ipynb\" target=\"_parent\"><img src=\"https://colab.research.google.com/assets/colab-badge.svg\" alt=\"Open In Colab\"/></a>"
   ]
  },
  {
   "cell_type": "markdown",
   "metadata": {
    "colab_type": "text",
    "id": "-qo9S0pSPBxD"
   },
   "source": [
    "# The Basics of NumPy Arrays"
   ]
  },
  {
   "cell_type": "markdown",
   "metadata": {
    "colab_type": "text",
    "id": "Sn2K_0wwPSG9"
   },
   "source": [
    "![alt text](https://moriohcdn.b-cdn.net/132df0ee5d.png)"
   ]
  },
  {
   "cell_type": "markdown",
   "metadata": {
    "colab_type": "text",
    "id": "m-zULkOzPDVS"
   },
   "source": [
    "## NumPy Array Attributes"
   ]
  },
  {
   "cell_type": "code",
   "execution_count": null,
   "metadata": {
    "colab": {},
    "colab_type": "code",
    "id": "Q7aR0N26PHzG"
   },
   "outputs": [],
   "source": [
    "import numpy as np\n",
    "np.random.seed(0)"
   ]
  },
  {
   "cell_type": "markdown",
   "metadata": {
    "colab_type": "text",
    "id": "tDjh1cIcPaYZ"
   },
   "source": [
    "## Creating a one dimensional array."
   ]
  },
  {
   "cell_type": "code",
   "execution_count": 33,
   "metadata": {
    "colab": {
     "base_uri": "https://localhost:8080/",
     "height": 35
    },
    "colab_type": "code",
    "id": "6RpS67urPXvO",
    "outputId": "d962a3ff-89c9-408f-97a2-7c00c9ec848d"
   },
   "outputs": [
    {
     "name": "stdout",
     "output_type": "stream",
     "text": [
      "[5 0 3 3 7 9]\n"
     ]
    }
   ],
   "source": [
    "# Creating a one dimensional array.\n",
    "one = np.random.randint(10, size = 6)\n",
    "print(one)"
   ]
  },
  {
   "cell_type": "markdown",
   "metadata": {
    "colab_type": "text",
    "id": "cYuSWJ8PPq4v"
   },
   "source": [
    "\n",
    "\n",
    "---\n",
    "\n"
   ]
  },
  {
   "cell_type": "markdown",
   "metadata": {
    "colab_type": "text",
    "id": "k0hichAkPnNL"
   },
   "source": [
    "## Creating a two dimensional array."
   ]
  },
  {
   "cell_type": "code",
   "execution_count": 34,
   "metadata": {
    "colab": {
     "base_uri": "https://localhost:8080/",
     "height": 52
    },
    "colab_type": "code",
    "id": "e6Aorkx0PlS6",
    "outputId": "b4811ec5-3d88-4806-c666-a1af16edf028"
   },
   "outputs": [
    {
     "name": "stdout",
     "output_type": "stream",
     "text": [
      "[[3 5 2 4 7]\n",
      " [6 8 8 1 6]]\n"
     ]
    }
   ],
   "source": [
    "# Creating a two dimensional array.\n",
    "two = np.random.randint(10, size = (2, 5))\n",
    "print(two)"
   ]
  },
  {
   "cell_type": "markdown",
   "metadata": {
    "colab_type": "text",
    "id": "ogITIMRyPrkM"
   },
   "source": [
    "\n",
    "\n",
    "---\n",
    "\n"
   ]
  },
  {
   "cell_type": "markdown",
   "metadata": {
    "colab_type": "text",
    "id": "QlfY3Rx5PsE_"
   },
   "source": [
    "## Creating a three dimensional array."
   ]
  },
  {
   "cell_type": "code",
   "execution_count": 35,
   "metadata": {
    "colab": {
     "base_uri": "https://localhost:8080/",
     "height": 260
    },
    "colab_type": "code",
    "id": "MaywX9E7Pu3j",
    "outputId": "54563da2-20b4-4cda-b66e-26945bcef7e2"
   },
   "outputs": [
    {
     "name": "stdout",
     "output_type": "stream",
     "text": [
      "[[[7 7 8 1 5]\n",
      "  [9 8 9 4 3]\n",
      "  [0 3 5 0 2]\n",
      "  [3 8 1 3 3]]\n",
      "\n",
      " [[3 7 0 1 9]\n",
      "  [9 0 4 7 3]\n",
      "  [2 7 2 0 0]\n",
      "  [4 5 5 6 8]]\n",
      "\n",
      " [[4 1 4 9 8]\n",
      "  [1 1 7 9 9]\n",
      "  [3 6 7 2 0]\n",
      "  [3 5 9 4 4]]]\n"
     ]
    }
   ],
   "source": [
    "# Creating a three dimensional array.\n",
    "three = np.random.randint(10, size = (3, 4, 5))\n",
    "print(three)"
   ]
  },
  {
   "cell_type": "markdown",
   "metadata": {
    "colab_type": "text",
    "id": "RbE8EOLnRvyu"
   },
   "source": [
    "\n",
    "\n",
    "---\n",
    "\n"
   ]
  },
  {
   "cell_type": "markdown",
   "metadata": {
    "colab_type": "text",
    "id": "Km79fDn0Pz_p"
   },
   "source": [
    "## Using the attributes to determine the dimension of the arrays."
   ]
  },
  {
   "cell_type": "code",
   "execution_count": 36,
   "metadata": {
    "colab": {
     "base_uri": "https://localhost:8080/",
     "height": 69
    },
    "colab_type": "code",
    "id": "KVBSmXHNP03f",
    "outputId": "ddf530de-9fe4-4598-dc46-48275f69c9f9"
   },
   "outputs": [
    {
     "name": "stdout",
     "output_type": "stream",
     "text": [
      "one ==> 1\n",
      "two ==> 2\n",
      "three ==> 3\n"
     ]
    }
   ],
   "source": [
    "# Using the attributes to determine the dimension of the arrays.\n",
    "print(\"one ==>\", one.ndim )\n",
    "print(\"two ==>\", two.ndim )\n",
    "print(\"three ==>\", three.ndim )"
   ]
  },
  {
   "cell_type": "markdown",
   "metadata": {
    "colab_type": "text",
    "id": "gG6RwZKIRvEm"
   },
   "source": [
    "\n",
    "\n",
    "---\n",
    "\n"
   ]
  },
  {
   "cell_type": "markdown",
   "metadata": {
    "colab_type": "text",
    "id": "SBMu3kkkP6vP"
   },
   "source": [
    "## Using the attribute to determine the shape of the arrays."
   ]
  },
  {
   "cell_type": "code",
   "execution_count": 37,
   "metadata": {
    "colab": {
     "base_uri": "https://localhost:8080/",
     "height": 69
    },
    "colab_type": "code",
    "id": "hBDFFJjUP7oO",
    "outputId": "52c0b5d1-0b35-4b1b-f4f4-249fd3d4edf6"
   },
   "outputs": [
    {
     "name": "stdout",
     "output_type": "stream",
     "text": [
      "one ==> (6,)\n",
      "two ==> (2, 5)\n",
      "three ==> (3, 4, 5)\n"
     ]
    }
   ],
   "source": [
    "print(\"one ==>\", one.shape)\n",
    "print(\"two ==>\", two.shape)\n",
    "print(\"three ==>\", three.shape)"
   ]
  },
  {
   "cell_type": "markdown",
   "metadata": {
    "colab_type": "text",
    "id": "TwKHM1KdP-ZO"
   },
   "source": [
    "## Using the attribute to determine the size of the arrays."
   ]
  },
  {
   "cell_type": "code",
   "execution_count": 38,
   "metadata": {
    "colab": {
     "base_uri": "https://localhost:8080/",
     "height": 69
    },
    "colab_type": "code",
    "id": "jVqNzLbyQBnb",
    "outputId": "28a31b51-6cc9-4103-d25c-fe3a5aad757b"
   },
   "outputs": [
    {
     "name": "stdout",
     "output_type": "stream",
     "text": [
      "one ==> 6\n",
      "two ==> 10\n",
      "three ==> 60\n"
     ]
    }
   ],
   "source": [
    "# Using the attribute to determine the size of the arrays.\n",
    "print(\"one ==>\", one.size)\n",
    "print(\"two ==>\", two.size)\n",
    "print(\"three ==>\", three.size)"
   ]
  },
  {
   "cell_type": "markdown",
   "metadata": {
    "colab_type": "text",
    "id": "ssTtTOHvRtlx"
   },
   "source": [
    "\n",
    "\n",
    "---\n",
    "\n"
   ]
  },
  {
   "cell_type": "markdown",
   "metadata": {
    "colab_type": "text",
    "id": "HDoD4rroQE0W"
   },
   "source": [
    "## Using the attribute to determine the datatype of the arrays."
   ]
  },
  {
   "cell_type": "code",
   "execution_count": 39,
   "metadata": {
    "colab": {
     "base_uri": "https://localhost:8080/",
     "height": 69
    },
    "colab_type": "code",
    "id": "GBjr9s0yQG2r",
    "outputId": "9947d549-0073-4da8-e043-9ab241ad7a9f"
   },
   "outputs": [
    {
     "name": "stdout",
     "output_type": "stream",
     "text": [
      "one ==> int64\n",
      "two ==> int64\n",
      "three ==> int64\n"
     ]
    }
   ],
   "source": [
    "# Using the attribute to determine the datatype of the arrays.\n",
    "print(\"one ==>\", one.dtype)\n",
    "print(\"two ==>\", two.dtype)\n",
    "print(\"three ==>\", three.dtype)"
   ]
  },
  {
   "cell_type": "markdown",
   "metadata": {
    "colab_type": "text",
    "id": "Tvw9gkh0Rs1q"
   },
   "source": [
    "\n",
    "\n",
    "---\n",
    "\n"
   ]
  },
  {
   "cell_type": "markdown",
   "metadata": {
    "colab_type": "text",
    "id": "ihoiHfdDQLYG"
   },
   "source": [
    "## Using the attribute to determine the item size of the arrays."
   ]
  },
  {
   "cell_type": "code",
   "execution_count": 40,
   "metadata": {
    "colab": {
     "base_uri": "https://localhost:8080/",
     "height": 69
    },
    "colab_type": "code",
    "id": "vPeYsDhBQJ-P",
    "outputId": "05580e31-c946-47e8-f316-e682fb823987"
   },
   "outputs": [
    {
     "name": "stdout",
     "output_type": "stream",
     "text": [
      "one ==> 8\n",
      "two ==> 8\n",
      "three ==> 8\n"
     ]
    }
   ],
   "source": [
    "# Using the attribute to determine the item size of the arrays.\n",
    "print(\"one ==>\", one.itemsize)\n",
    "print(\"two ==>\", two.itemsize)\n",
    "print(\"three ==>\", three.itemsize)"
   ]
  },
  {
   "cell_type": "markdown",
   "metadata": {
    "colab_type": "text",
    "id": "tCITvwkiRsBM"
   },
   "source": [
    "\n",
    "\n",
    "---\n",
    "\n"
   ]
  },
  {
   "cell_type": "markdown",
   "metadata": {
    "colab_type": "text",
    "id": "p5iASnKaQPL2"
   },
   "source": [
    "## Using the attribute to determine the total number of bytes of the array."
   ]
  },
  {
   "cell_type": "code",
   "execution_count": 41,
   "metadata": {
    "colab": {
     "base_uri": "https://localhost:8080/",
     "height": 69
    },
    "colab_type": "code",
    "id": "dgGVcORiQQCb",
    "outputId": "bbc50725-857e-4607-a630-92ff88e81ded"
   },
   "outputs": [
    {
     "name": "stdout",
     "output_type": "stream",
     "text": [
      "one ==> 48\n",
      "two ==> 80\n",
      "three ==> 480\n"
     ]
    }
   ],
   "source": [
    "print(\"one ==>\", one.nbytes)\n",
    "print(\"two ==>\", two.nbytes)\n",
    "print(\"three ==>\", three.nbytes)"
   ]
  },
  {
   "cell_type": "markdown",
   "metadata": {
    "colab_type": "text",
    "id": "mTS5yuJiRrC5"
   },
   "source": [
    "\n",
    "\n",
    "---\n",
    "\n"
   ]
  },
  {
   "cell_type": "markdown",
   "metadata": {
    "colab_type": "text",
    "id": "aznaNp1hQUCj"
   },
   "source": [
    "## Array Indexing: Accessing Single Elements"
   ]
  },
  {
   "cell_type": "code",
   "execution_count": 42,
   "metadata": {
    "colab": {
     "base_uri": "https://localhost:8080/",
     "height": 35
    },
    "colab_type": "code",
    "id": "xa3ZMpyLQUsD",
    "outputId": "0a33d763-2895-433b-ebe7-f82fdfa230b8"
   },
   "outputs": [
    {
     "name": "stdout",
     "output_type": "stream",
     "text": [
      "3\n"
     ]
    }
   ],
   "source": [
    "# Array Indexing: Accessing Single Elements\n",
    "oneValue = one[2]\n",
    "print(oneValue)"
   ]
  },
  {
   "cell_type": "markdown",
   "metadata": {
    "colab_type": "text",
    "id": "4_w6tJ00RqFW"
   },
   "source": [
    "\n",
    "\n",
    "---\n",
    "\n"
   ]
  },
  {
   "cell_type": "markdown",
   "metadata": {
    "colab_type": "text",
    "id": "6PNAeYc3QZEk"
   },
   "source": [
    "## Accessing the elements in a multi dimensional array"
   ]
  },
  {
   "cell_type": "code",
   "execution_count": 43,
   "metadata": {
    "colab": {
     "base_uri": "https://localhost:8080/",
     "height": 69
    },
    "colab_type": "code",
    "id": "fYkRVgzqQZ8Y",
    "outputId": "defa925e-6a04-488d-ca12-0fbee6750c62"
   },
   "outputs": [
    {
     "name": "stdout",
     "output_type": "stream",
     "text": [
      "[[3 5 2 4 7]\n",
      " [6 8 8 1 6]]\n",
      "7\n"
     ]
    }
   ],
   "source": [
    "# Accessing the elements in a multi dimensional array\n",
    "print(two)\n",
    "twoValue = two[0, 4]\n",
    "print(twoValue)"
   ]
  },
  {
   "cell_type": "markdown",
   "metadata": {
    "colab_type": "text",
    "id": "Y60uCsf8Rpfu"
   },
   "source": [
    "\n",
    "\n",
    "---\n",
    "\n"
   ]
  },
  {
   "cell_type": "markdown",
   "metadata": {
    "colab_type": "text",
    "id": "SlZINYGxQdk1"
   },
   "source": [
    "## Changing the values of the array"
   ]
  },
  {
   "cell_type": "code",
   "execution_count": 44,
   "metadata": {
    "colab": {
     "base_uri": "https://localhost:8080/",
     "height": 69
    },
    "colab_type": "code",
    "id": "4BqL6vG_Qe1n",
    "outputId": "19bc5a4b-55a8-4b46-cfcd-45bdeb2127f1"
   },
   "outputs": [
    {
     "name": "stdout",
     "output_type": "stream",
     "text": [
      "[5 0 3 3 7 9]\n",
      "[5 0 3 6 7 9]\n",
      "[5 0 3 6 4 9]\n"
     ]
    }
   ],
   "source": [
    "# Changing the values of the array\n",
    "print(one)\n",
    "one[3] = 6\n",
    "print(one)\n",
    "one[4] = 4.56 # It will be silently truncated\n",
    "print(one)"
   ]
  },
  {
   "cell_type": "markdown",
   "metadata": {
    "colab_type": "text",
    "id": "90wOdhnrRoq3"
   },
   "source": [
    "\n",
    "\n",
    "---\n",
    "\n"
   ]
  },
  {
   "cell_type": "markdown",
   "metadata": {
    "colab_type": "text",
    "id": "Jp6DxgT1QkJK"
   },
   "source": [
    "## Array Slicing: Accessing Subarrays"
   ]
  },
  {
   "cell_type": "code",
   "execution_count": 45,
   "metadata": {
    "colab": {
     "base_uri": "https://localhost:8080/",
     "height": 277
    },
    "colab_type": "code",
    "id": "gqMzY-k2QlFf",
    "outputId": "85b96a55-a08d-4f55-875f-f730e1fc4540"
   },
   "outputs": [
    {
     "name": "stdout",
     "output_type": "stream",
     "text": [
      "[6 4 4 3 4 4 8 4 3 7]\n",
      "------------------------\n",
      "[4 8 3]\n",
      "------------------------\n",
      "[4 3 4 4 7]\n",
      "------------------------\n",
      "[6 4 4 8 3]\n",
      "------------------------\n",
      "[6 4 4 3 4 4 8 4 3]\n",
      "------------------------\n",
      "[7 3 4 8 4 4 3 4 4 6]\n",
      "------------------------\n",
      "University of Regina is awesome !!!\n",
      "------------------------\n",
      "!!! emosewa si anigeR fo ytisrevinU\n"
     ]
    }
   ],
   "source": [
    "# Array Slicing: Accessing Subarrays\n",
    "# The syntax of the slicing is ==> x[start:stop:step] ==> default value is:\n",
    "# [0: size of the dimension: 1]\n",
    "\n",
    "a = np.random.randint(10, size = (10))\n",
    "print(a)\n",
    "print(\"------------------------\")\n",
    "\n",
    "print(a[4: 9: 2])\n",
    "print(\"------------------------\")\n",
    "\n",
    "print(a[1::2])\n",
    "print(\"------------------------\")\n",
    "\n",
    "print(a[::2])\n",
    "print(\"------------------------\")\n",
    "\n",
    "print(a[:9:])\n",
    "print(\"------------------------\")\n",
    "\n",
    "# This is the best example for reversing an array\n",
    "print(a[::-1])\n",
    "print(\"------------------------\")\n",
    "\n",
    "# I tries on strings and it worked !!!\n",
    "a = \"University of Regina is awesome !!!\"\n",
    "print(a)\n",
    "print(\"------------------------\")\n",
    "\n",
    "print(a[::-1])"
   ]
  },
  {
   "cell_type": "code",
   "execution_count": 46,
   "metadata": {
    "colab": {
     "base_uri": "https://localhost:8080/",
     "height": 208
    },
    "colab_type": "code",
    "id": "c8vQ8xOrQvbT",
    "outputId": "ce8695bf-e55b-47cb-99db-b124339486cf"
   },
   "outputs": [
    {
     "name": "stdout",
     "output_type": "stream",
     "text": [
      "[[3 5 2 4 7]\n",
      " [6 8 8 1 6]]\n",
      "------------------------\n",
      "[[3 5 2]\n",
      " [6 8 8]]\n",
      "------------------------\n",
      "[[3 4]\n",
      " [6 1]]\n",
      "------------------------\n",
      "[[6 1 8 8 6]\n",
      " [7 4 2 5 3]]\n"
     ]
    }
   ],
   "source": [
    "print(two)\n",
    "print(\"------------------------\")\n",
    "\n",
    "twoValue = two[:2, :3]\n",
    "print(twoValue)\n",
    "print(\"------------------------\")\n",
    "\n",
    "twoValue = two[:2, ::3]\n",
    "print(twoValue)\n",
    "print(\"------------------------\")\n",
    "\n",
    "twoValue = two[::-1, ::-1]\n",
    "print(twoValue)"
   ]
  },
  {
   "cell_type": "markdown",
   "metadata": {
    "colab_type": "text",
    "id": "z2pe6mx3RnVm"
   },
   "source": [
    "\n",
    "\n",
    "---\n",
    "\n"
   ]
  },
  {
   "cell_type": "markdown",
   "metadata": {
    "colab_type": "text",
    "id": "-ybLTKiGQxY4"
   },
   "source": [
    "## Accessing array rows and columns."
   ]
  },
  {
   "cell_type": "code",
   "execution_count": 47,
   "metadata": {
    "colab": {
     "base_uri": "https://localhost:8080/",
     "height": 156
    },
    "colab_type": "code",
    "id": "H8bGZEkkQyUg",
    "outputId": "d05a5b6d-4b75-442f-eac5-b4c0f6ca79f8"
   },
   "outputs": [
    {
     "name": "stdout",
     "output_type": "stream",
     "text": [
      "[[3 5 2 4 7]\n",
      " [6 8 8 1 6]]\n",
      "------------------------\n",
      "[3 6]\n",
      "------------------------\n",
      "[3 5 2 4 7]\n",
      "------------------------\n",
      "[3 5 2 4 7]\n"
     ]
    }
   ],
   "source": [
    "# Accessing array rows and columns.\n",
    "print(two)\n",
    "print(\"------------------------\")\n",
    "\n",
    "print(two[:, 0]) # first coloumn \n",
    "print(\"------------------------\")\n",
    "\n",
    "print(two[0, :]) # first row\n",
    "print(\"------------------------\")\n",
    "\n",
    "print(two[0]) # Entire row"
   ]
  },
  {
   "cell_type": "markdown",
   "metadata": {
    "colab_type": "text",
    "id": "Xo2t3EFSRmP-"
   },
   "source": [
    "\n",
    "\n",
    "---\n",
    "\n"
   ]
  },
  {
   "cell_type": "markdown",
   "metadata": {
    "colab_type": "text",
    "id": "LDutoT8bQ1CS"
   },
   "source": [
    "## Modifing the array without using copy() function."
   ]
  },
  {
   "cell_type": "code",
   "execution_count": 48,
   "metadata": {
    "colab": {
     "base_uri": "https://localhost:8080/",
     "height": 208
    },
    "colab_type": "code",
    "id": "hYvilF5-Q1pU",
    "outputId": "e6d78c11-0b58-4bbb-d84a-98160e09cd2c"
   },
   "outputs": [
    {
     "name": "stdout",
     "output_type": "stream",
     "text": [
      "[[3 5 2 4 7]\n",
      " [6 8 8 1 6]]\n",
      "------------------------\n",
      "[[3 5]\n",
      " [6 8]]\n",
      "------------------------\n",
      "[[25  5]\n",
      " [ 6  8]]\n",
      "------------------------\n",
      "[[25  5  2  4  7]\n",
      " [ 6  8  8  1  6]]\n"
     ]
    }
   ],
   "source": [
    "# Modifing the array without using copy() function.\n",
    "\n",
    "print(two)\n",
    "print(\"------------------------\")\n",
    "\n",
    "twoValue = two[:2, :2]\n",
    "print(twoValue)\n",
    "print(\"------------------------\")\n",
    "\n",
    "twoValue[0, 0] = 25\n",
    "print(twoValue)\n",
    "print(\"------------------------\")\n",
    "\n",
    "print(two)"
   ]
  },
  {
   "cell_type": "markdown",
   "metadata": {
    "colab_type": "text",
    "id": "KB5GkHcIRlEz"
   },
   "source": [
    "\n",
    "\n",
    "---\n",
    "\n"
   ]
  },
  {
   "cell_type": "markdown",
   "metadata": {
    "colab_type": "text",
    "id": "miesr6LFQ4qn"
   },
   "source": [
    "## Modifing the array with using copy() function."
   ]
  },
  {
   "cell_type": "code",
   "execution_count": 49,
   "metadata": {
    "colab": {
     "base_uri": "https://localhost:8080/",
     "height": 208
    },
    "colab_type": "code",
    "id": "jGcuAGNEQ5eK",
    "outputId": "9288d80a-6d96-40e0-aabd-d2f722fd8235"
   },
   "outputs": [
    {
     "name": "stdout",
     "output_type": "stream",
     "text": [
      "[[25  5  2  4  7]\n",
      " [ 6  8  8  1  6]]\n",
      "------------------------\n",
      "[[25  5]\n",
      " [ 6  8]]\n",
      "------------------------\n",
      "[[45  5]\n",
      " [ 6  8]]\n",
      "------------------------\n",
      "[[25  5  2  4  7]\n",
      " [ 6  8  8  1  6]]\n"
     ]
    }
   ],
   "source": [
    "\n",
    "# Modifing the array with using copy() function.\n",
    "\n",
    "print(two)\n",
    "print(\"------------------------\")\n",
    "\n",
    "twoValue = two[:2, :2].copy()\n",
    "print(twoValue)\n",
    "print(\"------------------------\")\n",
    "\n",
    "twoValue[0, 0] = 45\n",
    "print(twoValue)\n",
    "print(\"------------------------\")\n",
    "\n",
    "print(two)"
   ]
  },
  {
   "cell_type": "markdown",
   "metadata": {
    "colab_type": "text",
    "id": "rKS7aQPURjUY"
   },
   "source": [
    "\n",
    "\n",
    "---\n",
    "\n"
   ]
  },
  {
   "cell_type": "markdown",
   "metadata": {
    "colab_type": "text",
    "id": "jrcZ0-KBQ8jJ"
   },
   "source": [
    "## Reshaping of Arrays using reshape() in a more advanced way"
   ]
  },
  {
   "cell_type": "code",
   "execution_count": 50,
   "metadata": {
    "colab": {
     "base_uri": "https://localhost:8080/",
     "height": 69
    },
    "colab_type": "code",
    "id": "dG6yE4VYQ9Va",
    "outputId": "d382e087-feaa-4f56-dc3d-e057fe78f076"
   },
   "outputs": [
    {
     "name": "stdout",
     "output_type": "stream",
     "text": [
      "[[1 2 3]\n",
      " [4 5 6]\n",
      " [7 8 9]]\n"
     ]
    }
   ],
   "source": [
    "# Reshaping of Arrays using reshape() in a more advanced way\n",
    "\n",
    "grid = np.arange(1, 10).reshape(3, 3)\n",
    "print(grid)"
   ]
  },
  {
   "cell_type": "markdown",
   "metadata": {
    "colab_type": "text",
    "id": "D3uIf7NkRifk"
   },
   "source": [
    "\n",
    "\n",
    "---\n",
    "\n"
   ]
  },
  {
   "cell_type": "markdown",
   "metadata": {
    "colab_type": "text",
    "id": "Rs3dhY_GRA4N"
   },
   "source": [
    "## Reshaping the arrays using newaxis\n"
   ]
  },
  {
   "cell_type": "code",
   "execution_count": 51,
   "metadata": {
    "colab": {
     "base_uri": "https://localhost:8080/",
     "height": 260
    },
    "colab_type": "code",
    "id": "Ld4u0saaRBrN",
    "outputId": "c6474919-4027-4cc8-f9cd-3714d4548615"
   },
   "outputs": [
    {
     "name": "stdout",
     "output_type": "stream",
     "text": [
      "[5 0 3 6 4 9]\n",
      "------------------------\n",
      "[[5 0]\n",
      " [3 6]\n",
      " [4 9]]\n",
      "------------------------\n",
      "[[5 0 3 6 4 9]]\n",
      "------------------------\n",
      "[[5]\n",
      " [0]\n",
      " [3]\n",
      " [6]\n",
      " [4]\n",
      " [9]]\n"
     ]
    }
   ],
   "source": [
    "# Reshaping the arrays using newaxis\n",
    "\n",
    "print(one)\n",
    "print(\"------------------------\")\n",
    "print(one.reshape(3, 2))\n",
    "print(\"------------------------\")\n",
    "\n",
    "print(one[ np.newaxis, :])\n",
    "print(\"------------------------\")\n",
    "\n",
    "print(one[:, np.newaxis])"
   ]
  },
  {
   "cell_type": "markdown",
   "metadata": {
    "colab_type": "text",
    "id": "cadSKl9QRhfD"
   },
   "source": [
    "\n",
    "\n",
    "---\n",
    "\n"
   ]
  },
  {
   "cell_type": "markdown",
   "metadata": {
    "colab_type": "text",
    "id": "ECcx7T23RGhb"
   },
   "source": [
    "## Array Concatenation and Splitting"
   ]
  },
  {
   "cell_type": "code",
   "execution_count": 52,
   "metadata": {
    "colab": {
     "base_uri": "https://localhost:8080/",
     "height": 277
    },
    "colab_type": "code",
    "id": "GiiHfsf4RHVG",
    "outputId": "12e81444-91ac-4166-a0da-30a9781a1718"
   },
   "outputs": [
    {
     "name": "stdout",
     "output_type": "stream",
     "text": [
      "[1 2 3 4 5 6]\n",
      "------------------------\n",
      "[1 2 3 4 5 6 7 8 9]\n",
      "------------------------\n",
      "[[25  5  2  4  7]\n",
      " [ 6  8  8  1  6]]\n",
      "------------------------\n",
      "[[25  5  2  4  7]\n",
      " [ 6  8  8  1  6]\n",
      " [25  5  2  4  7]\n",
      " [ 6  8  8  1  6]]\n",
      "------------------------\n",
      "[[25  5  2  4  7 25  5  2  4  7]\n",
      " [ 6  8  8  1  6  6  8  8  1  6]]\n",
      "------------------------\n"
     ]
    }
   ],
   "source": [
    "a = np.array([1, 2, 3])\n",
    "b = np.array([4, 5, 6])\n",
    "c = np.concatenate([a, b])\n",
    "print(c)\n",
    "print(\"------------------------\")\n",
    "\n",
    "d = np.array([7, 8, 9])\n",
    "e = np.concatenate([c, d])\n",
    "print(e)\n",
    "print(\"------------------------\")\n",
    "\n",
    "print(two)\n",
    "print(\"------------------------\")\n",
    "\n",
    "f = np.concatenate([two, two])\n",
    "print(f)\n",
    "print(\"------------------------\")\n",
    "\n",
    "# concatenate along the second axis (zero-indexed)\n",
    "g = np.concatenate([two, two], axis = 1)\n",
    "print(g)\n",
    "print(\"------------------------\")"
   ]
  },
  {
   "cell_type": "markdown",
   "metadata": {
    "colab_type": "text",
    "id": "RvPc8JyNRgSF"
   },
   "source": [
    "\n",
    "\n",
    "---\n",
    "\n"
   ]
  },
  {
   "cell_type": "markdown",
   "metadata": {
    "colab_type": "text",
    "id": "SJS2g4YkRLQI"
   },
   "source": [
    "## Use np.vstack and np.hstack while you play with different types of Arrays."
   ]
  },
  {
   "cell_type": "code",
   "execution_count": 53,
   "metadata": {
    "colab": {
     "base_uri": "https://localhost:8080/",
     "height": 225
    },
    "colab_type": "code",
    "id": "5WiVqCbVRMHa",
    "outputId": "011a9dcc-7000-47c0-e6c3-e4ea36769eae"
   },
   "outputs": [
    {
     "name": "stdout",
     "output_type": "stream",
     "text": [
      "[1 2 3]\n",
      "------------------------\n",
      "[[4 5 6]\n",
      " [7 8 9]]\n",
      "------------------------\n",
      "[[1 2 3]\n",
      " [4 5 6]\n",
      " [7 8 9]]\n",
      "------------------------\n",
      "[[ 4  5  6 99]\n",
      " [ 7  8  9 99]]\n",
      "------------------------\n"
     ]
    }
   ],
   "source": [
    "a = np.array([1, 2, 3])\n",
    "print(a)\n",
    "print(\"------------------------\")\n",
    "\n",
    "b = np.array([[4, 5, 6], \n",
    "             [7, 8, 9]])\n",
    "print(b)\n",
    "print(\"------------------------\")\n",
    "\n",
    "print(np.vstack([a, b]))\n",
    "print(\"------------------------\")\n",
    "\n",
    "\n",
    "# horizontally stack the arrays\n",
    "y = np.array([[99],\n",
    "              [99]])\n",
    "print(np.hstack([b, y]))\n",
    "print(\"------------------------\")"
   ]
  },
  {
   "cell_type": "markdown",
   "metadata": {
    "colab_type": "text",
    "id": "kuVdGrUURd6a"
   },
   "source": [
    "\n",
    "\n",
    "---\n",
    "\n"
   ]
  },
  {
   "cell_type": "markdown",
   "metadata": {
    "colab_type": "text",
    "id": "il9Ba65MROxA"
   },
   "source": [
    "## Splitting of arrays"
   ]
  },
  {
   "cell_type": "code",
   "execution_count": 54,
   "metadata": {
    "colab": {
     "base_uri": "https://localhost:8080/",
     "height": 69
    },
    "colab_type": "code",
    "id": "Fgh6RE7ARP8F",
    "outputId": "1f3d6d18-1639-401d-b104-bfd6f0bfb36b"
   },
   "outputs": [
    {
     "name": "stdout",
     "output_type": "stream",
     "text": [
      "[1 2 3 4 5 6 7 8 9 0]\n",
      "------------------------\n",
      "[1 2] [3 4 5] [6 7 8 9 0]\n"
     ]
    }
   ],
   "source": [
    "# Splitting of arrays\n",
    "a = np.array([1, 2, 3, 4, 5, 6, 7, 8, 9, 0])\n",
    "print(a)\n",
    "print(\"------------------------\")\n",
    "b, c, d = np.split(a, [2, 5])\n",
    "print(b, c, d)"
   ]
  },
  {
   "cell_type": "code",
   "execution_count": 55,
   "metadata": {
    "colab": {
     "base_uri": "https://localhost:8080/",
     "height": 87
    },
    "colab_type": "code",
    "id": "Q1ehBB5ORTG4",
    "outputId": "2d00f2a1-5c92-4db5-c6f5-16f3179ed6fd"
   },
   "outputs": [
    {
     "name": "stdout",
     "output_type": "stream",
     "text": [
      "[[ 0  1  2  3]\n",
      " [ 4  5  6  7]\n",
      " [ 8  9 10 11]\n",
      " [12 13 14 15]]\n"
     ]
    }
   ],
   "source": [
    "grid = np.arange(16).reshape(4, 4)\n",
    "print(grid)"
   ]
  },
  {
   "cell_type": "code",
   "execution_count": 56,
   "metadata": {
    "colab": {
     "base_uri": "https://localhost:8080/",
     "height": 104
    },
    "colab_type": "code",
    "id": "ux6ICpj6RVPx",
    "outputId": "12a20e02-4721-409b-a056-332edb3e88f7"
   },
   "outputs": [
    {
     "name": "stdout",
     "output_type": "stream",
     "text": [
      "[[0 1 2 3]\n",
      " [4 5 6 7]]\n",
      "------------------------\n",
      "[[ 8  9 10 11]\n",
      " [12 13 14 15]]\n"
     ]
    }
   ],
   "source": [
    "upper, lower = np.vsplit(grid, [2])\n",
    "print(upper)\n",
    "print(\"------------------------\")\n",
    "\n",
    "print(lower)"
   ]
  },
  {
   "cell_type": "code",
   "execution_count": 57,
   "metadata": {
    "colab": {
     "base_uri": "https://localhost:8080/",
     "height": 173
    },
    "colab_type": "code",
    "id": "KipZb1mvRXUi",
    "outputId": "b2cc95c1-144c-4f97-d864-0be849616566"
   },
   "outputs": [
    {
     "name": "stdout",
     "output_type": "stream",
     "text": [
      "[[ 0  1]\n",
      " [ 4  5]\n",
      " [ 8  9]\n",
      " [12 13]]\n",
      "------------------------\n",
      "[[ 2  3]\n",
      " [ 6  7]\n",
      " [10 11]\n",
      " [14 15]]\n"
     ]
    }
   ],
   "source": [
    "left, right = np.hsplit(grid, [2])\n",
    "print(left)\n",
    "print(\"------------------------\")\n",
    "\n",
    "print(right)"
   ]
  },
  {
   "cell_type": "markdown",
   "metadata": {
    "colab_type": "text",
    "id": "qkHN0JS7Re8a"
   },
   "source": [
    "\n",
    "\n",
    "---\n",
    "\n"
   ]
  }
 ],
 "metadata": {
  "colab": {
   "include_colab_link": true,
   "name": "Untitled45.ipynb",
   "provenance": []
  },
  "kernelspec": {
   "display_name": "Python 3 (ipykernel)",
   "language": "python",
   "name": "python3"
  },
  "language_info": {
   "codemirror_mode": {
    "name": "ipython",
    "version": 3
   },
   "file_extension": ".py",
   "mimetype": "text/x-python",
   "name": "python",
   "nbconvert_exporter": "python",
   "pygments_lexer": "ipython3",
   "version": "3.11.5"
  }
 },
 "nbformat": 4,
 "nbformat_minor": 4
}
